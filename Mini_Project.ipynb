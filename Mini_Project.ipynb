{
 "cells": [
  {
   "cell_type": "code",
   "execution_count": 1,
   "id": "67bcca0a",
   "metadata": {},
   "outputs": [],
   "source": [
    "import numpy as np\n",
    "import pandas as pd\n",
    "import random\n",
    "import scipy.stats as stats\n",
    "import statsmodels.api as sm\n",
    "from statsmodels.stats.weightstats import ztest\n",
    "\n",
    "import matplotlib.pyplot as plt\n",
    "import seaborn as sns\n",
    "sns.set()\n",
    "import warnings\n",
    "warnings.filterwarnings('ignore')"
   ]
  },
  {
   "cell_type": "markdown",
   "id": "a40197c1",
   "metadata": {},
   "source": [
    "### 1. Perform the following statistical analysis on the fifa world cup dataset. The dataset consists of player information, which includes height; weight overall rating, potential etc. Data Cleaning and basic EDA process needs to be performed. "
   ]
  },
  {
   "cell_type": "code",
   "execution_count": 3,
   "id": "8b133ac1",
   "metadata": {},
   "outputs": [
    {
     "data": {
      "text/html": [
       "<div>\n",
       "<style scoped>\n",
       "    .dataframe tbody tr th:only-of-type {\n",
       "        vertical-align: middle;\n",
       "    }\n",
       "\n",
       "    .dataframe tbody tr th {\n",
       "        vertical-align: top;\n",
       "    }\n",
       "\n",
       "    .dataframe thead th {\n",
       "        text-align: right;\n",
       "    }\n",
       "</style>\n",
       "<table border=\"1\" class=\"dataframe\">\n",
       "  <thead>\n",
       "    <tr style=\"text-align: right;\">\n",
       "      <th></th>\n",
       "      <th>Name</th>\n",
       "      <th>Age</th>\n",
       "      <th>Nationality</th>\n",
       "      <th>Overall_rating</th>\n",
       "      <th>Potential</th>\n",
       "      <th>Club</th>\n",
       "      <th>Preferred Foot</th>\n",
       "      <th>International Reputation</th>\n",
       "      <th>Weak Foot</th>\n",
       "      <th>Skill Moves</th>\n",
       "      <th>Work Rate</th>\n",
       "      <th>Position</th>\n",
       "      <th>Jersey Number</th>\n",
       "      <th>Height</th>\n",
       "      <th>Weight</th>\n",
       "    </tr>\n",
       "  </thead>\n",
       "  <tbody>\n",
       "    <tr>\n",
       "      <th>0</th>\n",
       "      <td>L. Messi</td>\n",
       "      <td>31</td>\n",
       "      <td>Argentina</td>\n",
       "      <td>94</td>\n",
       "      <td>94</td>\n",
       "      <td>FC Barcelona</td>\n",
       "      <td>Left</td>\n",
       "      <td>5</td>\n",
       "      <td>4</td>\n",
       "      <td>4</td>\n",
       "      <td>Medium/ Medium</td>\n",
       "      <td>RF</td>\n",
       "      <td>10</td>\n",
       "      <td>5.583333</td>\n",
       "      <td>159</td>\n",
       "    </tr>\n",
       "    <tr>\n",
       "      <th>1</th>\n",
       "      <td>Cristiano Ronaldo</td>\n",
       "      <td>33</td>\n",
       "      <td>Portugal</td>\n",
       "      <td>94</td>\n",
       "      <td>94</td>\n",
       "      <td>Juventus</td>\n",
       "      <td>Right</td>\n",
       "      <td>5</td>\n",
       "      <td>4</td>\n",
       "      <td>5</td>\n",
       "      <td>High/ Low</td>\n",
       "      <td>ST</td>\n",
       "      <td>7</td>\n",
       "      <td>6.166667</td>\n",
       "      <td>183</td>\n",
       "    </tr>\n",
       "    <tr>\n",
       "      <th>2</th>\n",
       "      <td>Neymar Jr</td>\n",
       "      <td>26</td>\n",
       "      <td>Brazil</td>\n",
       "      <td>92</td>\n",
       "      <td>93</td>\n",
       "      <td>Paris Saint-Germain</td>\n",
       "      <td>Right</td>\n",
       "      <td>5</td>\n",
       "      <td>5</td>\n",
       "      <td>5</td>\n",
       "      <td>High/ Medium</td>\n",
       "      <td>LW</td>\n",
       "      <td>10</td>\n",
       "      <td>5.750000</td>\n",
       "      <td>150</td>\n",
       "    </tr>\n",
       "    <tr>\n",
       "      <th>3</th>\n",
       "      <td>De Gea</td>\n",
       "      <td>27</td>\n",
       "      <td>Spain</td>\n",
       "      <td>91</td>\n",
       "      <td>93</td>\n",
       "      <td>Manchester United</td>\n",
       "      <td>Right</td>\n",
       "      <td>4</td>\n",
       "      <td>3</td>\n",
       "      <td>1</td>\n",
       "      <td>Medium/ Medium</td>\n",
       "      <td>GK</td>\n",
       "      <td>1</td>\n",
       "      <td>6.333333</td>\n",
       "      <td>168</td>\n",
       "    </tr>\n",
       "    <tr>\n",
       "      <th>4</th>\n",
       "      <td>K. De Bruyne</td>\n",
       "      <td>27</td>\n",
       "      <td>Belgium</td>\n",
       "      <td>91</td>\n",
       "      <td>92</td>\n",
       "      <td>Manchester City</td>\n",
       "      <td>Right</td>\n",
       "      <td>4</td>\n",
       "      <td>5</td>\n",
       "      <td>4</td>\n",
       "      <td>High/ High</td>\n",
       "      <td>RCM</td>\n",
       "      <td>7</td>\n",
       "      <td>5.083333</td>\n",
       "      <td>154</td>\n",
       "    </tr>\n",
       "  </tbody>\n",
       "</table>\n",
       "</div>"
      ],
      "text/plain": [
       "                Name  Age Nationality  Overall_rating  Potential  \\\n",
       "0           L. Messi   31   Argentina              94         94   \n",
       "1  Cristiano Ronaldo   33    Portugal              94         94   \n",
       "2          Neymar Jr   26      Brazil              92         93   \n",
       "3             De Gea   27       Spain              91         93   \n",
       "4       K. De Bruyne   27     Belgium              91         92   \n",
       "\n",
       "                  Club Preferred Foot  International Reputation  Weak Foot  \\\n",
       "0         FC Barcelona           Left                         5          4   \n",
       "1             Juventus          Right                         5          4   \n",
       "2  Paris Saint-Germain          Right                         5          5   \n",
       "3    Manchester United          Right                         4          3   \n",
       "4      Manchester City          Right                         4          5   \n",
       "\n",
       "   Skill Moves       Work Rate Position  Jersey Number    Height  Weight  \n",
       "0            4  Medium/ Medium       RF             10  5.583333     159  \n",
       "1            5       High/ Low       ST              7  6.166667     183  \n",
       "2            5    High/ Medium       LW             10  5.750000     150  \n",
       "3            1  Medium/ Medium       GK              1  6.333333     168  \n",
       "4            4      High/ High      RCM              7  5.083333     154  "
      ]
     },
     "execution_count": 3,
     "metadata": {},
     "output_type": "execute_result"
    }
   ],
   "source": [
    "fifa = pd.read_csv(\"fifa_stats.csv\")\n",
    "fifa.head()"
   ]
  },
  {
   "cell_type": "code",
   "execution_count": 4,
   "id": "69519ea5",
   "metadata": {},
   "outputs": [
    {
     "data": {
      "text/plain": [
       "(2000, 15)"
      ]
     },
     "execution_count": 4,
     "metadata": {},
     "output_type": "execute_result"
    }
   ],
   "source": [
    "fifa.shape"
   ]
  },
  {
   "cell_type": "code",
   "execution_count": 5,
   "id": "dff57917",
   "metadata": {},
   "outputs": [
    {
     "data": {
      "text/plain": [
       "Name                         0\n",
       "Age                          0\n",
       "Nationality                  0\n",
       "Overall_rating               0\n",
       "Potential                    0\n",
       "Club                        19\n",
       "Preferred Foot               0\n",
       "International Reputation     0\n",
       "Weak Foot                    0\n",
       "Skill Moves                  0\n",
       "Work Rate                    0\n",
       "Position                     0\n",
       "Jersey Number                0\n",
       "Height                       0\n",
       "Weight                       0\n",
       "dtype: int64"
      ]
     },
     "execution_count": 5,
     "metadata": {},
     "output_type": "execute_result"
    }
   ],
   "source": [
    "fifa.isna().sum()"
   ]
  },
  {
   "cell_type": "code",
   "execution_count": 6,
   "id": "b4d899c2",
   "metadata": {},
   "outputs": [
    {
     "name": "stdout",
     "output_type": "stream",
     "text": [
      "<class 'pandas.core.frame.DataFrame'>\n",
      "RangeIndex: 2000 entries, 0 to 1999\n",
      "Data columns (total 15 columns):\n",
      " #   Column                    Non-Null Count  Dtype  \n",
      "---  ------                    --------------  -----  \n",
      " 0   Name                      2000 non-null   object \n",
      " 1   Age                       2000 non-null   int64  \n",
      " 2   Nationality               2000 non-null   object \n",
      " 3   Overall_rating            2000 non-null   int64  \n",
      " 4   Potential                 2000 non-null   int64  \n",
      " 5   Club                      1981 non-null   object \n",
      " 6   Preferred Foot            2000 non-null   object \n",
      " 7   International Reputation  2000 non-null   int64  \n",
      " 8   Weak Foot                 2000 non-null   int64  \n",
      " 9   Skill Moves               2000 non-null   int64  \n",
      " 10  Work Rate                 2000 non-null   object \n",
      " 11  Position                  2000 non-null   object \n",
      " 12  Jersey Number             2000 non-null   int64  \n",
      " 13  Height                    2000 non-null   float64\n",
      " 14  Weight                    2000 non-null   int64  \n",
      "dtypes: float64(1), int64(8), object(6)\n",
      "memory usage: 234.5+ KB\n"
     ]
    }
   ],
   "source": [
    "fifa.info()"
   ]
  },
  {
   "cell_type": "code",
   "execution_count": 7,
   "id": "2a5684af",
   "metadata": {},
   "outputs": [],
   "source": [
    "fifa.dropna(inplace=True)"
   ]
  },
  {
   "cell_type": "code",
   "execution_count": 10,
   "id": "86b120b6",
   "metadata": {},
   "outputs": [],
   "source": [
    "fifa.rename(columns={\"Preferred Foot\":\"Preferred_Foot\", \"Skill Moves\":\"Skill_moves\"}, inplace=True)"
   ]
  },
  {
   "cell_type": "markdown",
   "id": "43894b2a",
   "metadata": {},
   "source": [
    "#### a)\tAssuming age as population, perform the central limit theorem with sample size of 200. Find the standard error and the mean of sampling distribution. Compare the results with population mean and standard deviation. Explain in non-technical terms why the estimated standard error of a sample mean tends to decrease with an increase in sample size"
   ]
  },
  {
   "cell_type": "code",
   "execution_count": 9,
   "id": "69d009d2",
   "metadata": {},
   "outputs": [
    {
     "name": "stdout",
     "output_type": "stream",
     "text": [
      "Population Mean: 27.215547703180214\n",
      "Sampling Distribution Mean: 27.205400000000004\n",
      "Population Standard Deviation: 3.8515461098126726\n",
      "Standard Error: 0.2723454372301208\n"
     ]
    }
   ],
   "source": [
    "sample_lst = []\n",
    "n = 200\n",
    "\n",
    "for i in range(50):\n",
    "    sample_lst.append(np.mean(random.sample(population=list(fifa['Age']), k=n)))\n",
    "\n",
    "sigma = np.std(fifa['Age'])\n",
    "se = sigma/np.sqrt(n)\n",
    "\n",
    "print(\"Population Mean:\", np.mean(fifa['Age']))\n",
    "print(\"Sampling Distribution Mean:\", np.mean(sample_lst))\n",
    "print(\"Population Standard Deviation:\", sigma)\n",
    "print(\"Standard Error:\", se)"
   ]
  },
  {
   "cell_type": "code",
   "execution_count": 11,
   "id": "6bfe391c",
   "metadata": {},
   "outputs": [],
   "source": [
    "# The population mean and the sampling distribution mean are almost equal with a differnce of just a few decimal places.\n",
    "# As we increase the sample size, the Standard Error/Standard Deviation of the Sampling Distribution tends to decrease\n",
    "# because as we increase the sample size, the sample itself starts appropriating the population distribution and sample's\n",
    "# mean starts coming closer to the actual population mean.\n",
    "# And if we increase the sample size by enough such that it takes the shape of the population then the standard error\n",
    "# starts approaching zero."
   ]
  },
  {
   "cell_type": "markdown",
   "id": "f7ed4f48",
   "metadata": {},
   "source": [
    "#### b)\tIs there any evidence that the players overall rating is greater than 80?"
   ]
  },
  {
   "cell_type": "code",
   "execution_count": 35,
   "id": "23811b3f",
   "metadata": {},
   "outputs": [],
   "source": [
    "# Ho: Players' overall rating <= 80\n",
    "# Ha: Players' overall rating > 80"
   ]
  },
  {
   "cell_type": "code",
   "execution_count": 5,
   "id": "19de32a2",
   "metadata": {},
   "outputs": [
    {
     "name": "stdout",
     "output_type": "stream",
     "text": [
      "Z Critical: 1.6448536269514722\n",
      "Z Statistic: -7.598098093639144\n",
      "CI 95%: (77.7797102169411, 78.6902897830589)\n",
      "pvalue 0.999999999999985\n"
     ]
    }
   ],
   "source": [
    "popmean = 80\n",
    "\n",
    "random.seed(42)\n",
    "sample_1 = random.sample(population=list(fifa['Overall_rating']), k=200)\n",
    "sigma = np.std(fifa['Overall_rating'])\n",
    "n = 200\n",
    "se = sigma/np.sqrt(n)\n",
    "xbar = np.mean(sample_1)\n",
    "\n",
    "inter = stats.norm.interval(0.95, loc=xbar, scale=se)\n",
    "stat = (xbar - popmean)/se\n",
    "z_crit = stats.norm.ppf(0.95)\n",
    "pval = stats.norm.sf(stat)\n",
    "\n",
    "print(\"Z Critical:\", z_crit)\n",
    "print(\"Z Statistic:\", stat)\n",
    "print(\"CI 95%:\", inter)\n",
    "print('pvalue',pval)"
   ]
  },
  {
   "cell_type": "code",
   "execution_count": 70,
   "id": "609399a1",
   "metadata": {},
   "outputs": [],
   "source": [
    "# Fail to reject the null\n",
    "# Therefore, We can say that on average, Players have an overall rating of less than or equal to 80"
   ]
  },
  {
   "cell_type": "markdown",
   "id": "18d9dbfb",
   "metadata": {},
   "source": [
    "#### c)\tPerform the statistical test to identify whether preferred foot has any impact on potential. Also, perform the graphical analysis."
   ]
  },
  {
   "cell_type": "code",
   "execution_count": 47,
   "id": "903416bc",
   "metadata": {},
   "outputs": [],
   "source": [
    "# Ho: Preferred Foot has no effect on Players' Potential\n",
    "# Ha: Preferred Foot has an effect on Players' Potential"
   ]
  },
  {
   "cell_type": "code",
   "execution_count": 48,
   "id": "df1e7651",
   "metadata": {},
   "outputs": [
    {
     "data": {
      "text/html": [
       "<div>\n",
       "<style scoped>\n",
       "    .dataframe tbody tr th:only-of-type {\n",
       "        vertical-align: middle;\n",
       "    }\n",
       "\n",
       "    .dataframe tbody tr th {\n",
       "        vertical-align: top;\n",
       "    }\n",
       "\n",
       "    .dataframe thead th {\n",
       "        text-align: right;\n",
       "    }\n",
       "</style>\n",
       "<table border=\"1\" class=\"dataframe\">\n",
       "  <thead>\n",
       "    <tr style=\"text-align: right;\">\n",
       "      <th></th>\n",
       "      <th>df</th>\n",
       "      <th>sum_sq</th>\n",
       "      <th>mean_sq</th>\n",
       "      <th>F</th>\n",
       "      <th>PR(&gt;F)</th>\n",
       "    </tr>\n",
       "  </thead>\n",
       "  <tbody>\n",
       "    <tr>\n",
       "      <th>Preferred_Foot</th>\n",
       "      <td>1.0</td>\n",
       "      <td>45.107303</td>\n",
       "      <td>45.107303</td>\n",
       "      <td>2.662185</td>\n",
       "      <td>0.102919</td>\n",
       "    </tr>\n",
       "    <tr>\n",
       "      <th>Residual</th>\n",
       "      <td>1979.0</td>\n",
       "      <td>33531.616574</td>\n",
       "      <td>16.943717</td>\n",
       "      <td>NaN</td>\n",
       "      <td>NaN</td>\n",
       "    </tr>\n",
       "  </tbody>\n",
       "</table>\n",
       "</div>"
      ],
      "text/plain": [
       "                    df        sum_sq    mean_sq         F    PR(>F)\n",
       "Preferred_Foot     1.0     45.107303  45.107303  2.662185  0.102919\n",
       "Residual        1979.0  33531.616574  16.943717       NaN       NaN"
      ]
     },
     "execution_count": 48,
     "metadata": {},
     "output_type": "execute_result"
    }
   ],
   "source": [
    "model = sm.formula.ols(\"Potential ~ Preferred_Foot\", data=fifa).fit()\n",
    "sm.stats.anova_lm(model)"
   ]
  },
  {
   "cell_type": "code",
   "execution_count": 49,
   "id": "abb63198",
   "metadata": {},
   "outputs": [],
   "source": [
    "# Since, P value is greater than 0.05 significane level, We fail to reject the null\n",
    "# Therefore, we can say that Preferred Foot has no effect on Players' Potential"
   ]
  },
  {
   "cell_type": "code",
   "execution_count": 12,
   "id": "c215bf55",
   "metadata": {},
   "outputs": [
    {
     "data": {
      "image/png": "[encoded data removed]",
      "text/plain": [
       "<Figure size 432x288 with 1 Axes>"
      ]
     },
     "metadata": {},
     "output_type": "display_data"
    }
   ],
   "source": [
    "sns.boxplot(data=fifa, x='Preferred_Foot', y='Potential')\n",
    "plt.show()"
   ]
  },
  {
   "cell_type": "code",
   "execution_count": 13,
   "id": "e6f9f6b6",
   "metadata": {},
   "outputs": [],
   "source": [
    "# As we can see in the boxplot that preferred foot, does not affect player's potential"
   ]
  },
  {
   "cell_type": "markdown",
   "id": "fbdfa845",
   "metadata": {},
   "source": [
    "#### d)\tPerform the statistical test to identify the relation between the overall rating and potential. [Assume both are continuous data points]."
   ]
  },
  {
   "cell_type": "code",
   "execution_count": 51,
   "id": "359510b4",
   "metadata": {},
   "outputs": [
    {
     "data": {
      "text/html": [
       "<div>\n",
       "<style scoped>\n",
       "    .dataframe tbody tr th:only-of-type {\n",
       "        vertical-align: middle;\n",
       "    }\n",
       "\n",
       "    .dataframe tbody tr th {\n",
       "        vertical-align: top;\n",
       "    }\n",
       "\n",
       "    .dataframe thead th {\n",
       "        text-align: right;\n",
       "    }\n",
       "</style>\n",
       "<table border=\"1\" class=\"dataframe\">\n",
       "  <thead>\n",
       "    <tr style=\"text-align: right;\">\n",
       "      <th></th>\n",
       "      <th>Overall_rating</th>\n",
       "      <th>Potential</th>\n",
       "    </tr>\n",
       "  </thead>\n",
       "  <tbody>\n",
       "    <tr>\n",
       "      <th>Overall_rating</th>\n",
       "      <td>1.000000</td>\n",
       "      <td>0.732086</td>\n",
       "    </tr>\n",
       "    <tr>\n",
       "      <th>Potential</th>\n",
       "      <td>0.732086</td>\n",
       "      <td>1.000000</td>\n",
       "    </tr>\n",
       "  </tbody>\n",
       "</table>\n",
       "</div>"
      ],
      "text/plain": [
       "                Overall_rating  Potential\n",
       "Overall_rating        1.000000   0.732086\n",
       "Potential             0.732086   1.000000"
      ]
     },
     "execution_count": 51,
     "metadata": {},
     "output_type": "execute_result"
    }
   ],
   "source": [
    "fifa[['Overall_rating', 'Potential']].corr()"
   ]
  },
  {
   "cell_type": "code",
   "execution_count": 57,
   "id": "f2fe84c1",
   "metadata": {},
   "outputs": [],
   "source": [
    "# Therefore, we can see that there is moderately high relation between the two variables"
   ]
  },
  {
   "cell_type": "code",
   "execution_count": 58,
   "id": "99fe2dbe",
   "metadata": {},
   "outputs": [],
   "source": [
    "# Ho: No effect of Potential on Overall Rating\n",
    "# Ha: There is an effect of Potential on Overall Rating"
   ]
  },
  {
   "cell_type": "code",
   "execution_count": 65,
   "id": "f3cedead",
   "metadata": {},
   "outputs": [
    {
     "name": "stdout",
     "output_type": "stream",
     "text": [
      "P Value: 2.365099906058412e-71\n"
     ]
    }
   ],
   "source": [
    "teststats, pval = ztest(x1=fifa['Overall_rating'], x2=fifa['Potential'], value=0)\n",
    "print(\"P Value:\", pval)"
   ]
  },
  {
   "cell_type": "code",
   "execution_count": 61,
   "id": "d3b759e8",
   "metadata": {},
   "outputs": [],
   "source": [
    "# Reject the null\n",
    "# Therefore, we can say that potential has an effect no Overall Rating of the Player"
   ]
  },
  {
   "cell_type": "markdown",
   "id": "0e999041",
   "metadata": {},
   "source": [
    "#### e)\tDoes skill move have any effect in overall rating? Perform the graphical analysis and the statistical analysis."
   ]
  },
  {
   "cell_type": "code",
   "execution_count": 15,
   "id": "8393c627",
   "metadata": {},
   "outputs": [
    {
     "data": {
      "text/plain": [
       "<AxesSubplot:xlabel='Skill_moves', ylabel='Overall_rating'>"
      ]
     },
     "execution_count": 15,
     "metadata": {},
     "output_type": "execute_result"
    },
    {
     "data": {
      "image/png": "[encoded data removed]",
      "text/plain": [
       "<Figure size 432x288 with 1 Axes>"
      ]
     },
     "metadata": {},
     "output_type": "display_data"
    }
   ],
   "source": [
    "sns.swarmplot(fifa['Skill_moves'], fifa['Overall_rating'])"
   ]
  },
  {
   "cell_type": "code",
   "execution_count": 13,
   "id": "28a376be",
   "metadata": {},
   "outputs": [
    {
     "data": {
      "text/plain": [
       "<AxesSubplot:xlabel='Skill_moves', ylabel='Overall_rating'>"
      ]
     },
     "execution_count": 13,
     "metadata": {},
     "output_type": "execute_result"
    },
    {
     "data": {
      "image/png": "[encoded data removed]",
      "text/plain": [
       "<Figure size 432x288 with 1 Axes>"
      ]
     },
     "metadata": {},
     "output_type": "display_data"
    }
   ],
   "source": [
    "sns.boxplot(fifa['Skill_moves'], fifa['Overall_rating'])"
   ]
  },
  {
   "cell_type": "code",
   "execution_count": 14,
   "id": "8d6f3359",
   "metadata": {},
   "outputs": [],
   "source": [
    "## Players with skill moves 4 and 5 seem to have better overall rating than that of the other players."
   ]
  },
  {
   "cell_type": "code",
   "execution_count": 64,
   "id": "9c7280d6",
   "metadata": {},
   "outputs": [],
   "source": [
    "# Ho: No effect of Skill moves on Overall Rating\n",
    "# Ha: There is an effect of Skill moves on Overall Rating"
   ]
  },
  {
   "cell_type": "code",
   "execution_count": 22,
   "id": "21a6b60d",
   "metadata": {},
   "outputs": [
    {
     "data": {
      "text/html": [
       "<div>\n",
       "<style scoped>\n",
       "    .dataframe tbody tr th:only-of-type {\n",
       "        vertical-align: middle;\n",
       "    }\n",
       "\n",
       "    .dataframe tbody tr th {\n",
       "        vertical-align: top;\n",
       "    }\n",
       "\n",
       "    .dataframe thead th {\n",
       "        text-align: right;\n",
       "    }\n",
       "</style>\n",
       "<table border=\"1\" class=\"dataframe\">\n",
       "  <thead>\n",
       "    <tr style=\"text-align: right;\">\n",
       "      <th></th>\n",
       "      <th>df</th>\n",
       "      <th>sum_sq</th>\n",
       "      <th>mean_sq</th>\n",
       "      <th>F</th>\n",
       "      <th>PR(&gt;F)</th>\n",
       "    </tr>\n",
       "  </thead>\n",
       "  <tbody>\n",
       "    <tr>\n",
       "      <th>Skill_moves</th>\n",
       "      <td>1.0</td>\n",
       "      <td>148.098437</td>\n",
       "      <td>148.098437</td>\n",
       "      <td>13.74004</td>\n",
       "      <td>0.000216</td>\n",
       "    </tr>\n",
       "    <tr>\n",
       "      <th>Residual</th>\n",
       "      <td>1979.0</td>\n",
       "      <td>21330.855627</td>\n",
       "      <td>10.778603</td>\n",
       "      <td>NaN</td>\n",
       "      <td>NaN</td>\n",
       "    </tr>\n",
       "  </tbody>\n",
       "</table>\n",
       "</div>"
      ],
      "text/plain": [
       "                 df        sum_sq     mean_sq         F    PR(>F)\n",
       "Skill_moves     1.0    148.098437  148.098437  13.74004  0.000216\n",
       "Residual     1979.0  21330.855627   10.778603       NaN       NaN"
      ]
     },
     "execution_count": 22,
     "metadata": {},
     "output_type": "execute_result"
    }
   ],
   "source": [
    "model = sm.formula.ols(\"Overall_rating ~ Skill_moves\", data=fifa).fit()\n",
    "sm.stats.anova_lm(model)"
   ]
  },
  {
   "cell_type": "code",
   "execution_count": 23,
   "id": "6dde00b4",
   "metadata": {},
   "outputs": [
    {
     "data": {
      "text/html": [
       "<table class=\"simpletable\">\n",
       "<caption>Multiple Comparison of Means - Tukey HSD, FWER=0.05</caption>\n",
       "<tr>\n",
       "  <th>group1</th> <th>group2</th> <th>meandiff</th>  <th>p-adj</th>  <th>lower</th>   <th>upper</th>  <th>reject</th>\n",
       "</tr>\n",
       "<tr>\n",
       "     <td>1</td>      <td>2</td>    <td>-0.7167</td> <td>0.0819</td> <td>-1.4861</td> <td>0.0527</td>   <td>False</td>\n",
       "</tr>\n",
       "<tr>\n",
       "     <td>1</td>      <td>3</td>    <td>-1.1788</td>  <td>0.001</td> <td>-1.8792</td> <td>-0.4783</td>  <td>True</td> \n",
       "</tr>\n",
       "<tr>\n",
       "     <td>1</td>      <td>4</td>    <td>0.0997</td>    <td>0.9</td>  <td>-0.6343</td> <td>0.8336</td>   <td>False</td>\n",
       "</tr>\n",
       "<tr>\n",
       "     <td>1</td>      <td>5</td>     <td>3.486</td>   <td>0.001</td> <td>1.9518</td>  <td>5.0201</td>   <td>True</td> \n",
       "</tr>\n",
       "<tr>\n",
       "     <td>2</td>      <td>3</td>    <td>-0.462</td>  <td>0.1292</td> <td>-0.9986</td> <td>0.0745</td>   <td>False</td>\n",
       "</tr>\n",
       "<tr>\n",
       "     <td>2</td>      <td>4</td>    <td>0.8164</td>  <td>0.0012</td> <td>0.2368</td>   <td>1.396</td>   <td>True</td> \n",
       "</tr>\n",
       "<tr>\n",
       "     <td>2</td>      <td>5</td>    <td>4.2027</td>   <td>0.001</td> <td>2.7361</td>  <td>5.6693</td>   <td>True</td> \n",
       "</tr>\n",
       "<tr>\n",
       "     <td>3</td>      <td>4</td>    <td>1.2784</td>   <td>0.001</td> <td>0.7941</td>  <td>1.7627</td>   <td>True</td> \n",
       "</tr>\n",
       "<tr>\n",
       "     <td>3</td>      <td>5</td>    <td>4.6648</td>   <td>0.001</td> <td>3.2331</td>  <td>6.0964</td>   <td>True</td> \n",
       "</tr>\n",
       "<tr>\n",
       "     <td>4</td>      <td>5</td>    <td>3.3863</td>   <td>0.001</td>  <td>1.938</td>  <td>4.8346</td>   <td>True</td> \n",
       "</tr>\n",
       "</table>"
      ],
      "text/plain": [
       "<class 'statsmodels.iolib.table.SimpleTable'>"
      ]
     },
     "execution_count": 23,
     "metadata": {},
     "output_type": "execute_result"
    }
   ],
   "source": [
    "analysis = sm.stats.multicomp.MultiComparison(data=fifa['Overall_rating'], groups=fifa['Skill_moves'])\n",
    "\n",
    "pc = analysis.tukeyhsd()\n",
    "pc.summary()"
   ]
  },
  {
   "cell_type": "code",
   "execution_count": 16,
   "id": "6049a7e5",
   "metadata": {},
   "outputs": [],
   "source": [
    "## Hence we can clearly state that differnt group of skill moves have varrying contribution to the player's rating, thus both the mentioned columns aren't independent, as proved statistically."
   ]
  },
  {
   "cell_type": "markdown",
   "id": "4cd4dd6e",
   "metadata": {},
   "source": [
    "### 2. Perform the following statistical analysis on the mobile network dataset given. The given data set contains information about the internet, calls, and messages of various network. Data Cleaning and basic EDA process needs to be performed. "
   ]
  },
  {
   "cell_type": "code",
   "execution_count": 26,
   "id": "4aaaf7a3",
   "metadata": {},
   "outputs": [
    {
     "data": {
      "text/html": [
       "<div>\n",
       "<style scoped>\n",
       "    .dataframe tbody tr th:only-of-type {\n",
       "        vertical-align: middle;\n",
       "    }\n",
       "\n",
       "    .dataframe tbody tr th {\n",
       "        vertical-align: top;\n",
       "    }\n",
       "\n",
       "    .dataframe thead th {\n",
       "        text-align: right;\n",
       "    }\n",
       "</style>\n",
       "<table border=\"1\" class=\"dataframe\">\n",
       "  <thead>\n",
       "    <tr style=\"text-align: right;\">\n",
       "      <th></th>\n",
       "      <th>date</th>\n",
       "      <th>duration</th>\n",
       "      <th>item</th>\n",
       "      <th>month</th>\n",
       "      <th>network</th>\n",
       "      <th>network_type</th>\n",
       "    </tr>\n",
       "  </thead>\n",
       "  <tbody>\n",
       "    <tr>\n",
       "      <th>0</th>\n",
       "      <td>15-10-14 6:58</td>\n",
       "      <td>221.321120</td>\n",
       "      <td>data</td>\n",
       "      <td>2014-11</td>\n",
       "      <td>data</td>\n",
       "      <td>data</td>\n",
       "    </tr>\n",
       "    <tr>\n",
       "      <th>1</th>\n",
       "      <td>15-10-14 6:58</td>\n",
       "      <td>81.610599</td>\n",
       "      <td>call</td>\n",
       "      <td>2014-11</td>\n",
       "      <td>Vodafone</td>\n",
       "      <td>mobile</td>\n",
       "    </tr>\n",
       "    <tr>\n",
       "      <th>2</th>\n",
       "      <td>15-10-14 14:46</td>\n",
       "      <td>143.109111</td>\n",
       "      <td>call</td>\n",
       "      <td>2014-11</td>\n",
       "      <td>Meteor</td>\n",
       "      <td>mobile</td>\n",
       "    </tr>\n",
       "    <tr>\n",
       "      <th>3</th>\n",
       "      <td>15-10-14 14:48</td>\n",
       "      <td>111.888670</td>\n",
       "      <td>call</td>\n",
       "      <td>2014-11</td>\n",
       "      <td>Tesco</td>\n",
       "      <td>mobile</td>\n",
       "    </tr>\n",
       "    <tr>\n",
       "      <th>4</th>\n",
       "      <td>15-10-14 17:27</td>\n",
       "      <td>246.695171</td>\n",
       "      <td>call</td>\n",
       "      <td>2014-11</td>\n",
       "      <td>Tesco</td>\n",
       "      <td>mobile</td>\n",
       "    </tr>\n",
       "  </tbody>\n",
       "</table>\n",
       "</div>"
      ],
      "text/plain": [
       "             date    duration  item    month   network network_type\n",
       "0   15-10-14 6:58  221.321120  data  2014-11      data         data\n",
       "1   15-10-14 6:58   81.610599  call  2014-11  Vodafone       mobile\n",
       "2  15-10-14 14:46  143.109111  call  2014-11    Meteor       mobile\n",
       "3  15-10-14 14:48  111.888670  call  2014-11     Tesco       mobile\n",
       "4  15-10-14 17:27  246.695171  call  2014-11     Tesco       mobile"
      ]
     },
     "execution_count": 26,
     "metadata": {},
     "output_type": "execute_result"
    }
   ],
   "source": [
    "mob = pd.read_csv(\"phone.csv\")\n",
    "mob.head()"
   ]
  },
  {
   "cell_type": "code",
   "execution_count": 27,
   "id": "89258116",
   "metadata": {},
   "outputs": [
    {
     "data": {
      "text/plain": [
       "(820, 6)"
      ]
     },
     "execution_count": 27,
     "metadata": {},
     "output_type": "execute_result"
    }
   ],
   "source": [
    "mob.shape"
   ]
  },
  {
   "cell_type": "code",
   "execution_count": 28,
   "id": "47c73534",
   "metadata": {},
   "outputs": [
    {
     "data": {
      "text/plain": [
       "date            0\n",
       "duration        0\n",
       "item            0\n",
       "month           0\n",
       "network         0\n",
       "network_type    0\n",
       "dtype: int64"
      ]
     },
     "execution_count": 28,
     "metadata": {},
     "output_type": "execute_result"
    }
   ],
   "source": [
    "mob.isna().sum()"
   ]
  },
  {
   "cell_type": "code",
   "execution_count": 29,
   "id": "2267ab50",
   "metadata": {},
   "outputs": [
    {
     "name": "stdout",
     "output_type": "stream",
     "text": [
      "<class 'pandas.core.frame.DataFrame'>\n",
      "RangeIndex: 820 entries, 0 to 819\n",
      "Data columns (total 6 columns):\n",
      " #   Column        Non-Null Count  Dtype  \n",
      "---  ------        --------------  -----  \n",
      " 0   date          820 non-null    object \n",
      " 1   duration      820 non-null    float64\n",
      " 2   item          820 non-null    object \n",
      " 3   month         820 non-null    object \n",
      " 4   network       820 non-null    object \n",
      " 5   network_type  820 non-null    object \n",
      "dtypes: float64(1), object(5)\n",
      "memory usage: 38.6+ KB\n"
     ]
    }
   ],
   "source": [
    "mob.info()"
   ]
  },
  {
   "cell_type": "code",
   "execution_count": 30,
   "id": "b40cd65e",
   "metadata": {},
   "outputs": [],
   "source": [
    "mob['date'] = pd.to_datetime(mob['date'])"
   ]
  },
  {
   "cell_type": "code",
   "execution_count": 31,
   "id": "323e0bc9",
   "metadata": {},
   "outputs": [],
   "source": [
    "mob['month'] = pd.to_datetime(mob['month']).dt.month"
   ]
  },
  {
   "cell_type": "code",
   "execution_count": 32,
   "id": "10dd7d1a",
   "metadata": {},
   "outputs": [
    {
     "name": "stdout",
     "output_type": "stream",
     "text": [
      "<class 'pandas.core.frame.DataFrame'>\n",
      "RangeIndex: 820 entries, 0 to 819\n",
      "Data columns (total 6 columns):\n",
      " #   Column        Non-Null Count  Dtype         \n",
      "---  ------        --------------  -----         \n",
      " 0   date          820 non-null    datetime64[ns]\n",
      " 1   duration      820 non-null    float64       \n",
      " 2   item          820 non-null    object        \n",
      " 3   month         820 non-null    int64         \n",
      " 4   network       820 non-null    object        \n",
      " 5   network_type  820 non-null    object        \n",
      "dtypes: datetime64[ns](1), float64(1), int64(1), object(3)\n",
      "memory usage: 38.6+ KB\n"
     ]
    }
   ],
   "source": [
    "mob.info()"
   ]
  },
  {
   "cell_type": "markdown",
   "id": "fd91db96",
   "metadata": {},
   "source": [
    "#### a) With 95% & 99% Confidence Interval, find the range estimate of average duration calls made by the entire network. Which of the Intervals are wider? Interpret the results."
   ]
  },
  {
   "cell_type": "code",
   "execution_count": 33,
   "id": "8a69f73c",
   "metadata": {},
   "outputs": [
    {
     "name": "stdout",
     "output_type": "stream",
     "text": [
      "CI 95%: (54.81315656633359, 233.79671455333732)\n",
      "CI 99%: (26.692801573465673, 261.91706954620525)\n"
     ]
    }
   ],
   "source": [
    "mu = np.mean(mob['duration'])\n",
    "sigma = np.std(mob['duration'])\n",
    "\n",
    "interval_1 = stats.norm.interval(0.95, loc=mu, scale=sigma)\n",
    "interval_2 = stats.norm.interval(0.99, loc=mu, scale=sigma)\n",
    "print(\"CI 95%:\", interval_1)\n",
    "print(\"CI 99%:\", interval_2)"
   ]
  },
  {
   "cell_type": "code",
   "execution_count": 34,
   "id": "95ca9c17",
   "metadata": {},
   "outputs": [],
   "source": [
    "# The 99% confidence interval is wider than the 95% confidence interval\n",
    "# As we increase our confidence level, we lose our accuracy for the estimation of our range\n",
    "# and hence get a wider spread interval."
   ]
  },
  {
   "cell_type": "markdown",
   "id": "a0134b92",
   "metadata": {},
   "source": [
    "#### b) Perform statistical analysis to check whether the networks are equally distributed in the dataset."
   ]
  },
  {
   "cell_type": "code",
   "execution_count": 35,
   "id": "e42191ce",
   "metadata": {},
   "outputs": [],
   "source": [
    "# Ho: Networks are present in equal proportions\n",
    "# Ha: Networks are disproportionately spread"
   ]
  },
  {
   "cell_type": "code",
   "execution_count": 39,
   "id": "0e094fcf",
   "metadata": {},
   "outputs": [
    {
     "data": {
      "text/html": [
       "<div>\n",
       "<style scoped>\n",
       "    .dataframe tbody tr th:only-of-type {\n",
       "        vertical-align: middle;\n",
       "    }\n",
       "\n",
       "    .dataframe tbody tr th {\n",
       "        vertical-align: top;\n",
       "    }\n",
       "\n",
       "    .dataframe thead th {\n",
       "        text-align: right;\n",
       "    }\n",
       "</style>\n",
       "<table border=\"1\" class=\"dataframe\">\n",
       "  <thead>\n",
       "    <tr style=\"text-align: right;\">\n",
       "      <th></th>\n",
       "      <th>Vodafone</th>\n",
       "      <th>Three</th>\n",
       "      <th>data</th>\n",
       "      <th>Meteor</th>\n",
       "      <th>Tesco</th>\n",
       "      <th>landline</th>\n",
       "      <th>voicemail</th>\n",
       "    </tr>\n",
       "  </thead>\n",
       "  <tbody>\n",
       "    <tr>\n",
       "      <th>network</th>\n",
       "      <td>215</td>\n",
       "      <td>215</td>\n",
       "      <td>150</td>\n",
       "      <td>87</td>\n",
       "      <td>84</td>\n",
       "      <td>42</td>\n",
       "      <td>27</td>\n",
       "    </tr>\n",
       "  </tbody>\n",
       "</table>\n",
       "</div>"
      ],
      "text/plain": [
       "         Vodafone  Three  data  Meteor  Tesco  landline  voicemail\n",
       "network       215    215   150      87     84        42         27"
      ]
     },
     "execution_count": 39,
     "metadata": {},
     "output_type": "execute_result"
    }
   ],
   "source": [
    "net = pd.DataFrame(mob['network'].value_counts()).T\n",
    "net"
   ]
  },
  {
   "cell_type": "code",
   "execution_count": 40,
   "id": "5bf7163f",
   "metadata": {},
   "outputs": [
    {
     "name": "stdout",
     "output_type": "stream",
     "text": [
      "P Value: 1.0\n"
     ]
    }
   ],
   "source": [
    "teststats, pval, df, exp_value = stats.chi2_contingency(net)\n",
    "print(\"P Value:\", pval)"
   ]
  },
  {
   "cell_type": "code",
   "execution_count": 42,
   "id": "fabcbb6d",
   "metadata": {},
   "outputs": [],
   "source": [
    "# Reject the null\n",
    "# Therefore, we can say that the spread of networks is disproportionate"
   ]
  },
  {
   "cell_type": "markdown",
   "id": "03fd3c08",
   "metadata": {},
   "source": [
    "#### c) Plot the distribution of duration with respect to each network in the same graph and interpret the results from the graph."
   ]
  },
  {
   "cell_type": "code",
   "execution_count": 118,
   "id": "bd109c2b",
   "metadata": {},
   "outputs": [
    {
     "data": {
      "image/png": "[encoded data removed]",
      "text/plain": [
       "<Figure size 432x288 with 1 Axes>"
      ]
     },
     "metadata": {},
     "output_type": "display_data"
    }
   ],
   "source": [
    "sns.boxplot(data=mob, x='network', y='duration')\n",
    "plt.show()"
   ]
  },
  {
   "cell_type": "code",
   "execution_count": 119,
   "id": "72021171",
   "metadata": {},
   "outputs": [],
   "source": [
    "# The median value and distribution of duration is almost the same for all networks\n",
    "# Except Voicemail and landline\n",
    "# Voicemail typically has higher call duration with more spread\n",
    "# and landline typically has lower call duration."
   ]
  },
  {
   "cell_type": "markdown",
   "id": "88f95a8a",
   "metadata": {},
   "source": [
    "#### d)\tPerform statistical tests to identify the relation between item and duration. Detailed explanation of relation between the classes is required."
   ]
  },
  {
   "cell_type": "code",
   "execution_count": 120,
   "id": "2aa155e7",
   "metadata": {},
   "outputs": [],
   "source": [
    "# Ho: No effect of item on duration\n",
    "# Ha: There is an effect of item on duration"
   ]
  },
  {
   "cell_type": "code",
   "execution_count": 122,
   "id": "4ef8c0c2",
   "metadata": {},
   "outputs": [
    {
     "data": {
      "text/html": [
       "<div>\n",
       "<style scoped>\n",
       "    .dataframe tbody tr th:only-of-type {\n",
       "        vertical-align: middle;\n",
       "    }\n",
       "\n",
       "    .dataframe tbody tr th {\n",
       "        vertical-align: top;\n",
       "    }\n",
       "\n",
       "    .dataframe thead th {\n",
       "        text-align: right;\n",
       "    }\n",
       "</style>\n",
       "<table border=\"1\" class=\"dataframe\">\n",
       "  <thead>\n",
       "    <tr style=\"text-align: right;\">\n",
       "      <th></th>\n",
       "      <th>df</th>\n",
       "      <th>sum_sq</th>\n",
       "      <th>mean_sq</th>\n",
       "      <th>F</th>\n",
       "      <th>PR(&gt;F)</th>\n",
       "    </tr>\n",
       "  </thead>\n",
       "  <tbody>\n",
       "    <tr>\n",
       "      <th>item</th>\n",
       "      <td>2.0</td>\n",
       "      <td>8.044792e+03</td>\n",
       "      <td>4022.395964</td>\n",
       "      <td>1.931396</td>\n",
       "      <td>0.145607</td>\n",
       "    </tr>\n",
       "    <tr>\n",
       "      <th>Residual</th>\n",
       "      <td>817.0</td>\n",
       "      <td>1.701514e+06</td>\n",
       "      <td>2082.636053</td>\n",
       "      <td>NaN</td>\n",
       "      <td>NaN</td>\n",
       "    </tr>\n",
       "  </tbody>\n",
       "</table>\n",
       "</div>"
      ],
      "text/plain": [
       "             df        sum_sq      mean_sq         F    PR(>F)\n",
       "item        2.0  8.044792e+03  4022.395964  1.931396  0.145607\n",
       "Residual  817.0  1.701514e+06  2082.636053       NaN       NaN"
      ]
     },
     "execution_count": 122,
     "metadata": {},
     "output_type": "execute_result"
    }
   ],
   "source": [
    "model = sm.formula.ols(\"duration ~ item\", data=mob).fit()\n",
    "sm.stats.anova_lm(model)"
   ]
  },
  {
   "cell_type": "code",
   "execution_count": 123,
   "id": "a84c5fd2",
   "metadata": {},
   "outputs": [],
   "source": [
    "# Fail to reject the null\n",
    "# Therefore, We can say that there is no effect of item on duration of the call"
   ]
  },
  {
   "cell_type": "markdown",
   "id": "8f71d6df",
   "metadata": {},
   "source": [
    "#### e)\tPerform statistical tests to identify the relation between network and network_type. "
   ]
  },
  {
   "cell_type": "code",
   "execution_count": 128,
   "id": "d652a1b4",
   "metadata": {},
   "outputs": [],
   "source": [
    "# Ho: Network types are equally spread across all the networks\n",
    "# Ha: Network types are un-equally spread across all the networks"
   ]
  },
  {
   "cell_type": "code",
   "execution_count": 46,
   "id": "5ea631d4",
   "metadata": {},
   "outputs": [
    {
     "name": "stdout",
     "output_type": "stream",
     "text": [
      "network       Meteor  Tesco  Three  Vodafone  data  landline  voicemail\n",
      "network_type                                                           \n",
      "data               0      0      0         0   150         0          0\n",
      "landline           0      0      0         0     0        42          0\n",
      "mobile            87     84    215       215     0         0          0\n",
      "voicemail          0      0      0         0     0         0         27\n",
      "P Value: 0.0\n"
     ]
    }
   ],
   "source": [
    "tbl = pd.crosstab(mob['network_type'], mob['network'])\n",
    "\n",
    "print(tbl)\n",
    "teststats, pval, df, exp_val = stats.chi2_contingency(tbl)\n",
    "print(\"P Value:\", pval)"
   ]
  },
  {
   "cell_type": "code",
   "execution_count": 129,
   "id": "ec373d4b",
   "metadata": {},
   "outputs": [],
   "source": [
    "# Reject the null\n",
    "# Therefore, we can say that Network types are un-equally spread across all the networks"
   ]
  },
  {
   "cell_type": "code",
   "execution_count": null,
   "id": "09534fae",
   "metadata": {},
   "outputs": [],
   "source": []
  }
 ],
 "metadata": {
  "kernelspec": {
   "display_name": "Python 3 (ipykernel)",
   "language": "python",
   "name": "python3"
  },
  "language_info": {
   "codemirror_mode": {
    "name": "ipython",
    "version": 3
   },
   "file_extension": ".py",
   "mimetype": "text/x-python",
   "name": "python",
   "nbconvert_exporter": "python",
   "pygments_lexer": "ipython3",
   "version": "3.9.7"
  }
 },
 "nbformat": 4,
 "nbformat_minor": 5
}
